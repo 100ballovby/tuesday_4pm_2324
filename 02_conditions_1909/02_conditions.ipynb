{
 "cells": [
  {
   "cell_type": "markdown",
   "id": "0a637fa5-01c1-4730-9802-446bc3da4a1b",
   "metadata": {
    "ExecuteTime": {
     "end_time": "2023-09-19T13:25:44.536461Z",
     "start_time": "2023-09-19T13:25:44.529364Z"
    },
    "collapsed": true,
    "jupyter": {
     "outputs_hidden": true
    }
   },
   "source": [
    "# Условия \n",
    "\n",
    "<p style=\"font-size: 18px; border: 0.1em solid red; border-radius: 2em; display: block; padding: 0.5em; text-align: center;\">Условия - это конструкция \"ветвление\", написанная средствами языка программирования.</p>\n",
    "\n",
    "<p style=\"font-size: 18px;\">Ветвление представляет собой простейшую модель принятия решений внутри текста программы. Используется в тех случаях, когда в вашем алгоритме есть несколько вариантов будущего.</p>\n",
    "\n",
    "<p style=\"font-size: 18px;\">Условия в Python не очень удобно создаются, потому что в них используются отступы. Отступы нужны для того, чтобы интерпретатор понимал, что этот конкретный код должен быть исполнен в случае выполнения условий, описанных в ветке условной конструкции. Веток может быть бесчисленное количество и для их определения используются ключевые слова <code>if</code>, <code>elif</code>, <code>else</code>.</p>\n",
    "\n",
    "<pre>\n",
    "    <code>\n",
    "        <b>if</b> <i>выражение</i><b>:</b>\n",
    "        ---><b>тело ветки условия</b>\n",
    "        <b>else:</b>\n",
    "        ---><b>тело ветки условия</b>\n",
    "    </code>\n",
    "</pre>\n",
    "\n",
    "<p style=\"font-size: 18px;\">Напишем программу, в которой узнаем сколько пользователю лет. Если ему 18 и более, пишем \"ок\", если менее 18, то \"не ок\".</p>"
   ]
  },
  {
   "cell_type": "code",
   "execution_count": 2,
   "id": "724a1caa-28d7-4845-ac0c-e75761a20362",
   "metadata": {},
   "outputs": [
    {
     "name": "stdin",
     "output_type": "stream",
     "text": [
      "Сколько тебе лет?  21\n"
     ]
    },
    {
     "name": "stdout",
     "output_type": "stream",
     "text": [
      "OK\n"
     ]
    }
   ],
   "source": [
    "age = int(input('Сколько тебе лет? '))\n",
    "\n",
    "if age >= 18:\n",
    "    print('OK')  # этот код исполняется в случае, если в переменной age число 18 и более\n",
    "else:\n",
    "    print('Ne OK')  # этот код исполняется в любом другом случае (если в age число меньше 18)"
   ]
  },
  {
   "cell_type": "markdown",
   "id": "77b0b359-039a-438c-b7bf-4fa0e91d3396",
   "metadata": {},
   "source": [
    "# Высказывания\n",
    "\n",
    "<p style=\"font-size: 18px;\"><b>Высказывание</b> - это какой-то факт, о котором в настоящем времени можно сказать: это правда или это ложь.</p>\n",
    "\n",
    "<p style=\"font-size: 18px;\"><i>Все дети ходят в школу</i> - я могу сказать, что это либо правда, либо ложь. Значит это выражение является высказыванием.</p>\n",
    "\n",
    "<p style=\"font-size: 18px;\"><i>Снег</i> - я не могу определить ложность/истинность этой фразы, значит высказыванием она не является.</p>\n",
    "\n",
    "<p style=\"font-size: 18px;\">В программировании для формирования высказываний используются все операторы сравнения <code>&lt;</code>, <code>&gt;</code>, <code>&lt;=</code>, <code>&gt;=</code>, <code>==</code>, <code>!=</code>, <code>is</code>, <code>in</code>.</p>"
   ]
  },
  {
   "cell_type": "code",
   "execution_count": 8,
   "id": "26c8c03f-5908-422d-9e29-def2aab85c5b",
   "metadata": {},
   "outputs": [
    {
     "name": "stdout",
     "output_type": "stream",
     "text": [
      "False\n",
      "False\n",
      "True\n",
      "True\n",
      "True\n",
      "False\n",
      "True\n",
      "True\n"
     ]
    }
   ],
   "source": [
    "x = 5\n",
    "y = x\n",
    "z = 'a'\n",
    "print(x > y)  # False\n",
    "print(x < y)  # False\n",
    "print(x >= y) # True\n",
    "print(x <= y) # True\n",
    "print(x == y) # True\n",
    "print(x != y) # False\n",
    "print(y is x) # True\n",
    "print(z in 'apple')  # True"
   ]
  },
  {
   "cell_type": "markdown",
   "id": "fbb656b3-0db8-4f36-8cac-1b98e4190f5f",
   "metadata": {},
   "source": [
    "# Оператор <code>is</code>\n",
    "\n",
    "<p style=\"font-size: 18px;\">Python имеет два оператора равенства: <code>==</code> и <code>is</code>. Оператор строгого равенства (<code>==</code>) проверяет равенство двух величин ВНЕ зависимости от их типа данных. Оператор <code>is</code> занимается определением того, что две переменные ссылаются на один и тот же объект (объекты этих переменных находятся в одной ячейке памяти).</p>\n",
    "\n",
    "\n",
    "# Оператор <code>in</code>\n",
    "\n",
    "<p style=\"font-size: 18px;\">Оператор <b style=\"color: #FFAAFF\">НЕ ВСТРЕЧАЕТСЯ НИ В ОДНОМ ИЗ ЯЗЫКОВ ПРОГРАММИРОВАНИЯ</b>, потому что его реализация чересчур сложная. Задача оператора <code>in</code> заключается в проверке наличия одного элемента во ВСЕЙ выданной последовательности. Либо проверке наличия последовательности целиком в другой выданной последовательности.</p>"
   ]
  },
  {
   "cell_type": "code",
   "execution_count": 10,
   "id": "09bc503f-6168-4a4d-aba0-f2f96d1f1018",
   "metadata": {},
   "outputs": [
    {
     "name": "stdout",
     "output_type": "stream",
     "text": [
      "True\n",
      "False\n",
      "True\n"
     ]
    }
   ],
   "source": [
    "print('я' in 'семья') # True\n",
    "print('ты' in 'семья')  # False\n",
    "print('ты' in 'тырдло')  # True"
   ]
  },
  {
   "cell_type": "markdown",
   "id": "78df4d53-2c0a-4c9c-b25e-50e6121332f8",
   "metadata": {},
   "source": [
    "<p style=\"font-size: 18px;\">Помимо прочего оператор <code>in</code> используется в циклах (но об этом потом). Оператор необходим ТОЛЬКО для проверки наличия одного или нескольких элементов внутри последовательности. Он не отдает ни расположения, ни какой-либо другой информации, кроме True/False.</p>"
   ]
  },
  {
   "cell_type": "code",
   "execution_count": null,
   "id": "9f30fd2d-9c42-4aec-bdc0-2b83b472d308",
   "metadata": {},
   "outputs": [],
   "source": []
  }
 ],
 "metadata": {
  "kernelspec": {
   "display_name": "Python 3 (ipykernel)",
   "language": "python",
   "name": "python3"
  },
  "language_info": {
   "codemirror_mode": {
    "name": "ipython",
    "version": 3
   },
   "file_extension": ".py",
   "mimetype": "text/x-python",
   "name": "python",
   "nbconvert_exporter": "python",
   "pygments_lexer": "ipython3",
   "version": "3.11.2"
  }
 },
 "nbformat": 4,
 "nbformat_minor": 5
}
