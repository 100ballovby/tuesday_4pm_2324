{
 "cells": [
  {
   "cell_type": "markdown",
   "id": "5ca67b0c-b86d-4e93-b84f-3c4bbd56bae8",
   "metadata": {
    "ExecuteTime": {
     "end_time": "2023-10-17T13:37:17.279769Z",
     "start_time": "2023-10-17T13:37:17.272084Z"
    },
    "collapsed": true,
    "jupyter": {
     "outputs_hidden": true
    }
   },
   "source": [
    "# Лабораторная работа №1. Циклы и условия в Python\n",
    "\n",
    "## Задача 1.\n",
    "<p style=\"font-size: 18px;\">Напишите программу, которая вводит с клавиатуры количество повторений и выводит столько же раз какое-нибудь сообщение.</p>"
   ]
  },
  {
   "cell_type": "code",
   "execution_count": 1,
   "id": "92d059dfbdabc492",
   "metadata": {
    "ExecuteTime": {
     "end_time": "2023-10-17T13:37:17.280042Z",
     "start_time": "2023-10-17T13:37:17.275310Z"
    },
    "collapsed": false,
    "jupyter": {
     "outputs_hidden": false
    }
   },
   "outputs": [
    {
     "name": "stdin",
     "output_type": "stream",
     "text": [
      "Количество повторений:  7\n"
     ]
    },
    {
     "name": "stdout",
     "output_type": "stream",
     "text": [
      "Повторение: 0 Привет\n",
      "Повторение: 1 Привет\n",
      "Повторение: 2 Привет\n",
      "Повторение: 3 Привет\n",
      "Повторение: 4 Привет\n",
      "Повторение: 5 Привет\n",
      "Повторение: 6 Привет\n"
     ]
    }
   ],
   "source": [
    "n = int(input('Количество повторений: '))\n",
    "\n",
    "for i in range(n):\n",
    "    print('Повторение:', i, 'Привет' )"
   ]
  },
  {
   "cell_type": "markdown",
   "id": "761f655c-459c-444b-a2c4-0f4eac25b3dc",
   "metadata": {},
   "source": [
    "## Задача 2.\n",
    "<p style=\"font-size: 18px;\">Напишите программу, которая вводит с клавиатуры натуральное число и определяет количество цифр в его десятичной записи.</p>\n",
    "\n",
    "<hr>\n",
    "\n",
    "<p style=\"font-size: 18px;\">Во второй задаче от вас просят определить количество цифр. Здесь надо было вспомнить ДЗ, где вас просили разбить число на разряды методом деления и нахождения остатков от деления на 10. В задаче нужно было выполнить эти действий и затем ПОСЧИТАТЬ СУММУ цифр числа. Делается это через вторую переменную для хранения временных результатов.</p>"
   ]
  },
  {
   "cell_type": "code",
   "execution_count": 3,
   "id": "cefa10b1-8e1f-4b3d-a500-64e7172bc9f0",
   "metadata": {},
   "outputs": [
    {
     "name": "stdin",
     "output_type": "stream",
     "text": [
      "Введите число: 456\n"
     ]
    },
    {
     "name": "stdout",
     "output_type": "stream",
     "text": [
      "В числе 3 цифр\n"
     ]
    }
   ],
   "source": [
    "n = int(input('Введите число:'))\n",
    "count = 0\n",
    "\n",
    "while n > 0:\n",
    "    n //= 10\n",
    "    count += 1\n",
    "\n",
    "print('В числе', count, 'цифр')\n"
   ]
  },
  {
   "cell_type": "markdown",
   "id": "a4dd5d0e-a7aa-4754-a295-87ee0a5e5b9b",
   "metadata": {},
   "source": [
    "## Задача 3.\n",
    "<p style=\"font-size: 18px;\">Напишите программу, котора выводит на экран в столбик все цифры числа в обратном порядке (начиная с последней).</p>\n",
    "\n",
    "<hr>\n",
    "\n",
    "<p style=\"font-size: 18px;\">Это задача №2. Просто нужно после нахождения остатка от деления на 10 (последней цифры любого числа) вывести этот остаток через <code>print()</code></p>"
   ]
  },
  {
   "cell_type": "code",
   "execution_count": 5,
   "id": "8b4bfcdb-03a1-4ae9-b975-c690b1082cd4",
   "metadata": {},
   "outputs": [
    {
     "name": "stdin",
     "output_type": "stream",
     "text": [
      "Введите число: 8294621\n"
     ]
    },
    {
     "name": "stdout",
     "output_type": "stream",
     "text": [
      "1\n",
      "2\n",
      "6\n",
      "4\n",
      "9\n",
      "2\n",
      "8\n"
     ]
    }
   ],
   "source": [
    "n = int(input('Введите число:'))\n",
    "\n",
    "while n > 0:\n",
    "    print(n % 10)\n",
    "    n //= 10\n"
   ]
  },
  {
   "cell_type": "markdown",
   "id": "fe3c69c7-fb49-4fa9-96f0-ea1286ef10aa",
   "metadata": {},
   "source": [
    "## Задача 4<span style=\"color: red;\">*</span>.\n",
    "<p style=\"font-size: 18px;\">Напишите программу, котора выводит на экран в столбик все цифры числа, начиная с первой.</p>\n",
    "\n",
    "<hr>\n",
    "\n",
    "<p style=\"font-size: 18px;\">Самый простой способ - это всунуть число в цикл <code>for</code> (при этом число должно быть строкой) и выводить <code>i</code>. Вариант получще - это добавлять остатки от деления (как в задаче №3) в список, а затем применить к списку метод <code>.reverse()</code> и либо вывести его просто принтом, либо вывести через цикл.</p>"
   ]
  },
  {
   "cell_type": "code",
   "execution_count": 9,
   "id": "28148688-b481-4ada-af0c-ce0e00f3f375",
   "metadata": {},
   "outputs": [
    {
     "name": "stdin",
     "output_type": "stream",
     "text": [
      "Введите число: 8294621\n"
     ]
    },
    {
     "name": "stdout",
     "output_type": "stream",
     "text": [
      "8\n",
      "2\n",
      "9\n",
      "4\n",
      "6\n",
      "2\n",
      "1\n"
     ]
    }
   ],
   "source": [
    "n = int(input('Введите число:'))\n",
    "l = []\n",
    "\n",
    "while n > 0:\n",
    "    l.append(n % 10)\n",
    "    n //= 10\n",
    "\n",
    "l.reverse()\n",
    "for i in l:\n",
    "    print(i)"
   ]
  },
  {
   "cell_type": "markdown",
   "id": "45fe22bb-effa-4d57-b8b6-0973a5865754",
   "metadata": {},
   "source": [
    "## Задача 5.\n",
    "<p style=\"font-size: 18px;\">Напишите программу, которая вводит с клавиатуры натуральное число и определяет количество четных цифр в его десятичной записи.</p>\n",
    "\n",
    "<hr>\n",
    "\n",
    "<p style=\"font-size: 18px;\">Это задача №2, но с условием на определение четности числа. Соответственно:</p>"
   ]
  },
  {
   "cell_type": "code",
   "execution_count": 11,
   "id": "46b310bb-cd31-404d-a860-8a46dce5d787",
   "metadata": {},
   "outputs": [
    {
     "name": "stdin",
     "output_type": "stream",
     "text": [
      "Введите число: 1020\n"
     ]
    },
    {
     "name": "stdout",
     "output_type": "stream",
     "text": [
      "В числе 1 четных цифр\n"
     ]
    }
   ],
   "source": [
    "n = int(input('Введите число:'))\n",
    "count = 0\n",
    "\n",
    "while n > 0:\n",
    "    chislo = n % 10\n",
    "    if chislo % 2 == 0 and chislo != 0:\n",
    "        count += 1\n",
    "    n //= 10\n",
    "    \n",
    "print('В числе', count, 'четных цифр')\n"
   ]
  },
  {
   "cell_type": "markdown",
   "id": "ee8e3fd3-5167-418a-a7f8-d49b0efac672",
   "metadata": {},
   "source": [
    "## Задача 6.\n",
    "<p style=\"font-size: 18px;\">Напишите программу, которая вводит с клавиатуры натуральное число и определяет, сколько раз в его десятичной записи встречается цифра 1.</p>\n",
    "\n",
    "<hr>\n",
    "\n",
    "<p style=\"font-size: 18px;\">Это задача №5 (то есть задача №2), в которой условие проверки на четность меняется на условие проверки на равность единице. Количество таких единиц - это общая СУММА единиц в числе.</p>"
   ]
  },
  {
   "cell_type": "code",
   "execution_count": null,
   "id": "589e1c7d-8b34-42d4-b642-2e142606f16f",
   "metadata": {},
   "outputs": [],
   "source": []
  },
  {
   "cell_type": "markdown",
   "id": "bb87f86e-0a65-4023-9aeb-383a14654003",
   "metadata": {},
   "source": [
    "## Задача 7.\n",
    "<p style=\"font-size: 18px;\">Напишите программу, которая вводит с клавиатуры натуральное число и находит наибольшую цифру в его десятичной записи.</p>\n",
    "\n",
    "<hr>\n",
    "\n",
    "<p style=\"font-size: 18px;\">Здесь уже нужен список. Вы должны разложить число на разряды, каждый разряд добавить в список, а затем в списке найти наибольшее число. Это перебор с условием. В условии необходимо сравнить, например, первое число в списке со вторым, и, если второе число больше, заменить переменную с самым большим числом на значение второго элемента в списке. Так делать, пока не дойдете до конца. Обратите внимание, что в этом случае есть возможность выйти за пределы индексации списка. Поэтому количество повторений = длина списка - 1 - 1.</p>"
   ]
  },
  {
   "cell_type": "code",
   "execution_count": null,
   "id": "3af3f354-bed4-4f55-8866-b0a385a24171",
   "metadata": {},
   "outputs": [],
   "source": []
  },
  {
   "cell_type": "markdown",
   "id": "335e2760-d410-4b2a-8fba-e50ffb33f83a",
   "metadata": {},
   "source": [
    "## Задача 8.\n",
    "<p style=\"font-size: 18px;\">Напишите программу, которая вводит с клавиатуры натуральное число и определяет, есть ли в его десятичной записи две одинаковые цифры, стоящие рядом.</p>"
   ]
  },
  {
   "cell_type": "code",
   "execution_count": 15,
   "id": "0242bc1a-c3da-4336-8602-012f61ddaa4a",
   "metadata": {},
   "outputs": [
    {
     "name": "stdin",
     "output_type": "stream",
     "text": [
      "Введите число: 90332\n"
     ]
    },
    {
     "name": "stdout",
     "output_type": "stream",
     "text": [
      "[2, 3, 3, 0, 9]\n",
      "В числе есть две одинаковые цифры, стоящие рядом\n"
     ]
    }
   ],
   "source": [
    "n = int(input('Введите число:'))\n",
    "l = []\n",
    "\n",
    "while n > 0:\n",
    "    l.append(n % 10)\n",
    "    n //= 10\n",
    "\n",
    "print(l)\n",
    "gemini = False  # Переменная будет хранить результат проверки \n",
    "for i in range(len(l)):\n",
    "    if l[i] == l[i + 1]:  # число с индексом i (на которое сейчас смотрим) равно числу с индексом i + 1 (следующее)\n",
    "        gemini = True\n",
    "        break\n",
    "\n",
    "if gemini:\n",
    "    print('В числе есть две одинаковые цифры, стоящие рядом')\n",
    "else:\n",
    "    print('В числе нет двух одинаковых цифр, стоящих рядом')\n",
    "    "
   ]
  },
  {
   "cell_type": "code",
   "execution_count": null,
   "id": "388ea19e-f4c0-41c5-a6ed-b91fd9914656",
   "metadata": {},
   "outputs": [],
   "source": []
  }
 ],
 "metadata": {
  "kernelspec": {
   "display_name": "Python 3 (ipykernel)",
   "language": "python",
   "name": "python3"
  },
  "language_info": {
   "codemirror_mode": {
    "name": "ipython",
    "version": 3
   },
   "file_extension": ".py",
   "mimetype": "text/x-python",
   "name": "python",
   "nbconvert_exporter": "python",
   "pygments_lexer": "ipython3",
   "version": "3.11.2"
  }
 },
 "nbformat": 4,
 "nbformat_minor": 5
}
