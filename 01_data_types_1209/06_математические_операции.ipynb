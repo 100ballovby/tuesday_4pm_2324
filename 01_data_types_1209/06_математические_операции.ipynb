{
 "cells": [
  {
   "cell_type": "markdown",
   "id": "3af8c257-38b2-413e-8977-1bc97f277d33",
   "metadata": {},
   "source": [
    "# Математические операции\n",
    "\n",
    "<table>\n",
    "    <tr>\n",
    "        <th>Операция</th>\n",
    "        <th>Описание</th>\n",
    "    </tr>\n",
    "    <tr><td>+</td><td>сложение</td></tr>\n",
    "    <tr><td>-</td><td>вычитание</td></tr>\n",
    "    <tr><td>*</td><td>умножение</td></tr>\n",
    "    <tr><td>/</td><td>деление</td></tr>\n",
    "    <tr><td>//</td><td>целочисленное деление (не будет дробной части)</td></tr>\n",
    "    <tr><td>%</td><td>остаток от деления</td></tr>\n",
    "    <tr><td>**</td><td>возведение в степень</td></tr>\n",
    "</table>"
   ]
  },
  {
   "cell_type": "code",
   "execution_count": 2,
   "id": "7c1a8a0e-986e-40bb-80cd-09b034920be1",
   "metadata": {},
   "outputs": [
    {
     "name": "stdout",
     "output_type": "stream",
     "text": [
      "40 + 12 = 52\n",
      "40 - 12 = 28\n",
      "40 * 12 = 480\n",
      "40 / 12 = 3.3333333333333335\n",
      "40 // 12 = 3\n",
      "40 % 12 = 4\n",
      "40 ** 12 = 16777216000000000000\n"
     ]
    }
   ],
   "source": [
    "a = 40\n",
    "b = 12\n",
    "\n",
    "print(a, '+', b, '=', a + b)\n",
    "print(a, '-', b, '=', a - b)\n",
    "print(a, '*', b, '=', a * b)\n",
    "print(a, '/', b, '=', a / b)\n",
    "print(a, '//', b, '=', a // b)\n",
    "print(a, '%', b, '=', a % b)\n",
    "print(a, '**', b, '=', a ** b)"
   ]
  },
  {
   "cell_type": "code",
   "execution_count": null,
   "id": "b743a996-b8c0-4b7e-9ac2-b5249da16b63",
   "metadata": {},
   "outputs": [],
   "source": []
  }
 ],
 "metadata": {
  "kernelspec": {
   "display_name": "Python 3 (ipykernel)",
   "language": "python",
   "name": "python3"
  },
  "language_info": {
   "codemirror_mode": {
    "name": "ipython",
    "version": 3
   },
   "file_extension": ".py",
   "mimetype": "text/x-python",
   "name": "python",
   "nbconvert_exporter": "python",
   "pygments_lexer": "ipython3",
   "version": "3.11.2"
  }
 },
 "nbformat": 4,
 "nbformat_minor": 5
}
