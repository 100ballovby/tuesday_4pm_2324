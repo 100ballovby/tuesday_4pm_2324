{
 "cells": [
  {
   "cell_type": "markdown",
   "id": "7d223d14-de9d-4c52-a51a-b088c63699e8",
   "metadata": {
    "ExecuteTime": {
     "end_time": "2023-09-26T13:08:34.701263Z",
     "start_time": "2023-09-26T13:08:34.697379Z"
    },
    "collapsed": true,
    "jupyter": {
     "outputs_hidden": true
    }
   },
   "source": [
    "# Логические операции\n",
    "\n",
    "<p sytle=\"font-size: 18px;\"><b>Высказывания</b> - это факты, о которых в настоящем времени можно сказать \"истина\" или \"ложь\".</p>\n",
    "\n",
    "<p sytle=\"font-size: 18px;\"><b>Высказвания (программирование)</b> - это операции сравнения иногда связанные логическими <u style=\"color: red;\">операциями</u>.</p>\n",
    "\n",
    "## Логические операторы\n",
    "\n",
    "<p sytle=\"font-size: 18px;\">Логическими операторами называются все операторы сравнения: <code>&lt;</code>, <code>&gt;</code>, <code>&lt;=</code>, <code>&gt;=</code>, <code>==</code>, <code>!=</code>, <code>is</code>, <code>in</code>.</p>\n",
    "\n",
    "## Логические операции\n",
    "\n",
    "<p sytle=\"font-size: 18px;\">Высказывания в программировании могут быть простыми и составными.</p>\n",
    "\n",
    "<img src=\"cond.png\">\n",
    "\n",
    "<p sytle=\"font-size: 18px;\">Логических операций всего 3: <code>not (НЕ)</code>, <code>and (И)</code>, <code>or (ИЛИ)</code>.</p>\n",
    "\n",
    "<table style=\"font-size: 18px;\">\n",
    "    <tr>\n",
    "        <th>not (НЕ)</th>\n",
    "        <th>and (И)</th>\n",
    "        <th>or (ИЛИ)</th>\n",
    "    </tr>\n",
    "    <tr>\n",
    "        <td>Логическая операция НЕ является операцией, которая меняет значение логического высказывания (было <code>True</code>, стало <code>False</code>). Работает как минус перед скобкой в математике. Синтаксис операции таков: <pre><code>if <span style=\"color: orange\">not</span> x == y</code></pre> - при такой форме записи, если значение переменной <code>x</code> равно значению переменной <code>y</code>, результат выражения будет <code>False</code>. То же самое бы происходило, если бы вы написали <pre><code>if x != y</code></pre></td>\n",
    "        <td><p><u style=\"color: purple;\">Составное логическое высказывание</u>, связанное операцией <code>И</code> <u style=\"color: red;\">будет истинным тогда и только тогда</u>, когда <u style=\"color: blue;\">ВСЕ простые логические высказывания</u>, входящие в ее состав, будут истинными.</p>\n",
    "        <p>В символьной логиче истине (<code>true</code>) соответствует значение 1, а <code>False</code> соответствует 0. Сама операция при этом называется <b>логическим умножением</b>. В связи с этим для объяснения работы операции <code>И</code> можно использовать математические выражения:</p>\n",
    "            <ul>\n",
    "                <li><u style=\"color: purple;\">1 * 0</u> = 0</li>\n",
    "                <li>0 * 1 = 0</li>\n",
    "                <li>0 * 0 = 0</li>\n",
    "                <li><u style=\"color: blue;\">1</u> * <u style=\"color: blue;\">1</u> = <u style=\"color: red;\">1</u></li>\n",
    "            </ul>\n",
    "            <p style=\"color: red; font-weight: bold;\">Операция <code>И</code> останавливает проверку высказываний в тот момент, когда встречает первый <code>False</code>.</p>\n",
    "        </td>\n",
    "        <td>\n",
    "            <p><u style=\"color: purple;\">Составное логическое высказывание</u>, связанное операцией <code>ИЛИ</code> <u style=\"color: red;\">будет истинным тогда</u>, когда <u style=\"color: blue;\">ХОТЯ БЫ ОДНО простое логическое высказывание</u>, входящее в ее состав, будет истинными.</p>\n",
    "        <p>В символьной логиче истине (<code>true</code>) соответствует значение 1, а <code>False</code> соответствует 0. Сама операция при этом называется <b>логическим сложением</b>. В связи с этим для объяснения работы операции <code>ИЛИ</code> можно использовать математические выражения:</p>\n",
    "            <ul>\n",
    "                <li><u style=\"color: purple;\">1 + 0</u> = <u style=\"color: red;\">1</u></li>\n",
    "                <li>0 + 1 = <u style=\"color: red;\">1</u></li>\n",
    "                <li>0 + 0 = 0</li>\n",
    "                <li><u style=\"color: blue;\">1</u> + <u style=\"color: blue;\">1</u> = <u style=\"color: red;\">1</u></li>\n",
    "            </ul>\n",
    "            <p style=\"color: red; font-weight: bold;\">Операция <code>ИЛИ</code> останавливает проверку высказываний в тот момент, когда встречает первый <code>True</code>.</p>\n",
    "        </td>        \n",
    "    </tr>\n",
    "</table>"
   ]
  },
  {
   "cell_type": "code",
   "execution_count": null,
   "id": "d2900f63492548be",
   "metadata": {
    "ExecuteTime": {
     "end_time": "2023-09-26T13:08:34.705717Z",
     "start_time": "2023-09-26T13:08:34.701461Z"
    },
    "collapsed": false,
    "jupyter": {
     "outputs_hidden": false
    }
   },
   "outputs": [],
   "source": []
  }
 ],
 "metadata": {
  "kernelspec": {
   "display_name": "Python 3 (ipykernel)",
   "language": "python",
   "name": "python3"
  },
  "language_info": {
   "codemirror_mode": {
    "name": "ipython",
    "version": 3
   },
   "file_extension": ".py",
   "mimetype": "text/x-python",
   "name": "python",
   "nbconvert_exporter": "python",
   "pygments_lexer": "ipython3",
   "version": "3.11.2"
  }
 },
 "nbformat": 4,
 "nbformat_minor": 5
}
