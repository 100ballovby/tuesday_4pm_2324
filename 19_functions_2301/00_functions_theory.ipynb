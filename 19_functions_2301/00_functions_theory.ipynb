{
 "cells": [
  {
   "cell_type": "markdown",
   "id": "b289ca97-c543-437b-a839-6e74e5027244",
   "metadata": {
    "ExecuteTime": {
     "end_time": "2024-01-23T13:04:37.665618Z",
     "start_time": "2024-01-23T13:04:37.625830Z"
    },
    "collapsed": true,
    "jupyter": {
     "outputs_hidden": true
    }
   },
   "source": [
    "# Паттерны программирования\n",
    "\n",
    "<p style=\"font-size: 18px;\">Базово-основной паттерн программирования - <b>DRY</b> - Don't Repeat Yourself. Подразумевает собой написание <b>чистого</b> кода, в котором нет лишних повторений одних и тех же операций. Цикл - это один из базовых приемов DRY, потому что позволяет повторить действия вместо того, чтобы писать их несколько раз руками.</p>\n",
    "\n",
    "\n"
   ]
  },
  {
   "cell_type": "code",
   "execution_count": 3,
   "id": "ca450096-d7ac-4183-a756-fa73f4df4d62",
   "metadata": {},
   "outputs": [
    {
     "name": "stdout",
     "output_type": "stream",
     "text": [
      "Hello\n",
      "Hello\n",
      "Hello\n",
      "Hello\n",
      "Hello\n",
      "Hello\n",
      "\n",
      "Hello\n",
      "Hello\n",
      "Hello\n",
      "Hello\n",
      "Hello\n",
      "Hello\n"
     ]
    }
   ],
   "source": [
    "print('Hello')\n",
    "print('Hello')\n",
    "print('Hello')\n",
    "print('Hello')\n",
    "print('Hello')\n",
    "print('Hello')\n",
    "\n",
    "print()\n",
    "\n",
    "for i in range(6):\n",
    "    print('Hello')\n"
   ]
  },
  {
   "cell_type": "markdown",
   "id": "6dcd51ed-6633-4c32-bc7d-614c64ec0706",
   "metadata": {},
   "source": [
    "<p style=\"font-size: 18px;\">Помимо циклов для \"подсушивания\" кода иногда пишутся особые блоки, в которых описан набор действий после выполнения которых основной поток программы будет возвращен в изначальную точку. То есть программа сможет работать дальше и выполнять оставшиеся у нее инструкции.</p>\n",
    "\n",
    "<p style=\"font-size: 18px;\">Такое решение предоставляет <b>функция</b>.</p>\n",
    "\n",
    "## Функции\n",
    "<div style=\"border: 2px solid blue; border-radius: 25px; padding: 1em; margin: 1em auto; width: 80%;\">\n",
    "    <p style=\"font-size: 18px;\"><b>Функция - именованный, самостоятельный блок кода, который призван решать одну определенную задачу и <u>исполняется только в момент его вызова</u>.</b></p>\n",
    "</div>\n",
    "\n",
    "<p style=\"font-size: 18px;\">Для работы функций их для начала нужно определить. Определение в Python формируется при помощи ключевого слова <code>def</code> - define. Затем следует имя функции, затем скобочки, в которых передаются или НЕ передаются дополнительные данные, затем двоеточие и тело функции. Телом функции называются строки кода, которые выполняются только в момент вызова функции.</p>"
   ]
  },
  {
   "cell_type": "markdown",
   "id": "f031fdfc-df77-45e1-a164-ab4dead743b2",
   "metadata": {},
   "source": [
    "<img src=\"s1.png\">"
   ]
  },
  {
   "cell_type": "markdown",
   "id": "a7c8fe99-3628-46df-b886-8aa386897e2e",
   "metadata": {},
   "source": [
    "<p style=\"font-size: 18px;\">Важное требование: Функция должна быть максимально универсальным решением, но только в рамках выполнения определенной задачи. Это означает, что вы НЕ должны лезть в код функции, чтобы в нем что-то менять в процессе работы.</p>"
   ]
  },
  {
   "cell_type": "markdown",
   "id": "6ced03c1-05bd-4f85-8db1-3634ffad55dd",
   "metadata": {},
   "source": [
    "<img src=\"s2.png\">\n",
    "\n",
    "<p style=\"font-size: 18px;\">Если определить фукнцию с оператором возврата значения <code>return</code>, а затем вызвать ее, значение, возвращаемое функцией, видно не будет. Потому что возврат и вывод - это разные слова. Выводит <code>print</code>, возвращает <code>return</code>. Возврат функции осуществляется <b>в переменную</b> (при ее наличии) или просто выбрасывается, если функции некуда возвращать значение.</p>"
   ]
  },
  {
   "cell_type": "code",
   "execution_count": 7,
   "id": "c27e8488-9e0c-4dfe-9830-fe06454e6e78",
   "metadata": {},
   "outputs": [
    {
     "name": "stdout",
     "output_type": "stream",
     "text": [
      "Hello!\n"
     ]
    }
   ],
   "source": [
    "# определение функции say_hello\n",
    "def say_hello():\n",
    "    return 'Hello!'\n",
    "\n",
    "# вызов функции say_hello с возвратом значения в переменную greeting \n",
    "greeting = say_hello()\n",
    "\n",
    "# вывод результата работы функции\n",
    "print(greeting)\n"
   ]
  },
  {
   "cell_type": "markdown",
   "id": "b8bc9aa6-2053-4135-9da4-1afe1ee2bf9c",
   "metadata": {},
   "source": [
    "<p style=\"font-size: 18px;\">В примере выше можно обойтись без переменной, если вы предполагаете, что результат работы функции будет только выводиться в консоль. Для этого необходимо написать <code>print()</code> и вызвать функцию внутри скобок принта:</p>"
   ]
  },
  {
   "cell_type": "code",
   "execution_count": 8,
   "id": "04bc0cc6-e50f-484b-8a03-7921d90810fd",
   "metadata": {},
   "outputs": [
    {
     "name": "stdout",
     "output_type": "stream",
     "text": [
      "Hello!\n"
     ]
    }
   ],
   "source": [
    "print(say_hello())"
   ]
  },
  {
   "cell_type": "markdown",
   "id": "ae7ab9bd-b062-44a4-93ad-58717fe32ef1",
   "metadata": {},
   "source": [
    "# Функции могут получать в себя различные данные.\n",
    "\n",
    "<img src=\"s3.png\">"
   ]
  },
  {
   "cell_type": "markdown",
   "id": "beb0cf7f-c315-4d6c-ab0b-84f0c7e2569b",
   "metadata": {},
   "source": [
    "<p style=\"font-size: 18px;\">Порядок размещения аргументов должен быть таким же, как порядок размещения параметров. Нарушать его можно, но только в случае, если вы будете указывать названия параметра перед подставляемым аргументом.</p>\n",
    "\n",
    "<code style=\"font-size: 18px\">build_a_house(<span style=\"color: #FF0016;\">material</span>=<span style=\"color: #076900;\">'concrete'</span>, <span style=\"color: #FF0016;\">width</span>=<span style=\"color: #00B1FF;\">400</span>, <span style=\"color: #FF0016;\">color</span>=<span style=\"color: #076900;\">'#fc1a3e'</span>, <span style=\"color: #FF0016;\">height</span>=<span style=\"color: #00B1FF;\">450</span>)</code>\n"
   ]
  },
  {
   "cell_type": "markdown",
   "id": "51f37ecc-0bac-40a5-8836-3da08dc49d73",
   "metadata": {},
   "source": [
    "<div style=\"border: 2px solid blue; border-radius: 25px; padding: 1em; margin: 1em auto; width: 80%;\">\n",
    "    <p style=\"font-size: 18px;\"><b>Если порядок аргументов нарушен, функция может либо работать неправильно, либо не работать вообще.</b></p>\n",
    "</div>"
   ]
  },
  {
   "cell_type": "code",
   "execution_count": 10,
   "id": "db91f67a-35f4-4570-ba88-87de50d4bf3d",
   "metadata": {},
   "outputs": [
    {
     "name": "stdout",
     "output_type": "stream",
     "text": [
      "8\n",
      "9\n"
     ]
    }
   ],
   "source": [
    "def square(a, b):\n",
    "    return a ** b\n",
    "\n",
    "\n",
    "print(square(2, 3))\n",
    "print(square(3, 2))  # неправильная работа, потому что 2^3=8, а получается 9, как при 3^2. "
   ]
  },
  {
   "cell_type": "markdown",
   "id": "32a40f71-e3a4-496f-ac1f-3592e3d967bd",
   "metadata": {},
   "source": [
    "<p style=\"font-size: 18px;\">Пример работает, но работает неправильно, потому что меняются местами аргументы. Это может привести к неправильным результатам или, как в следующем примере, отказу работы функции.</p>"
   ]
  },
  {
   "cell_type": "code",
   "execution_count": 13,
   "id": "f84890f4-770a-4780-83f9-514ff429388c",
   "metadata": {},
   "outputs": [
    {
     "ename": "TypeError",
     "evalue": "'list' object cannot be interpreted as an integer",
     "output_type": "error",
     "traceback": [
      "\u001b[0;31m---------------------------------------------------------------------------\u001b[0m",
      "\u001b[0;31mTypeError\u001b[0m                                 Traceback (most recent call last)",
      "Cell \u001b[0;32mIn[13], line 8\u001b[0m\n\u001b[1;32m      5\u001b[0m a \u001b[38;5;241m=\u001b[39m [\u001b[38;5;241m3\u001b[39m, \u001b[38;5;241m6\u001b[39m, \u001b[38;5;241m2\u001b[39m, \u001b[38;5;241m7\u001b[39m, \u001b[38;5;241m8\u001b[39m, \u001b[38;5;241m12\u001b[39m, \u001b[38;5;241m3\u001b[39m, \u001b[38;5;241m9\u001b[39m, \u001b[38;5;241m10\u001b[39m]\n\u001b[1;32m      6\u001b[0m l \u001b[38;5;241m=\u001b[39m \u001b[38;5;28mlen\u001b[39m(a)\n\u001b[0;32m----> 8\u001b[0m \u001b[43mshow_array\u001b[49m\u001b[43m(\u001b[49m\u001b[43ml\u001b[49m\u001b[43m,\u001b[49m\u001b[43m \u001b[49m\u001b[43ma\u001b[49m\u001b[43m)\u001b[49m\n",
      "Cell \u001b[0;32mIn[13], line 2\u001b[0m, in \u001b[0;36mshow_array\u001b[0;34m(array, length)\u001b[0m\n\u001b[1;32m      1\u001b[0m \u001b[38;5;28;01mdef\u001b[39;00m \u001b[38;5;21mshow_array\u001b[39m(array, length):\n\u001b[0;32m----> 2\u001b[0m     \u001b[38;5;28;01mfor\u001b[39;00m i \u001b[38;5;129;01min\u001b[39;00m \u001b[38;5;28;43mrange\u001b[39;49m\u001b[43m(\u001b[49m\u001b[43mlength\u001b[49m\u001b[43m)\u001b[49m:\n\u001b[1;32m      3\u001b[0m         \u001b[38;5;28mprint\u001b[39m(array[i])\n",
      "\u001b[0;31mTypeError\u001b[0m: 'list' object cannot be interpreted as an integer"
     ]
    }
   ],
   "source": [
    "def show_array(array, length):\n",
    "    for i in range(length):\n",
    "        print(array[i])\n",
    "\n",
    "a = [3, 6, 2, 7, 8, 12, 3, 9, 10]\n",
    "l = len(a)\n",
    "\n",
    "show_array(l, a)"
   ]
  },
  {
   "cell_type": "markdown",
   "id": "ec7918cf-259c-474b-9218-4c07b34b33ad",
   "metadata": {},
   "source": [
    "<p style=\"font-size: 18px;\">Пример выше не работает по той причине, что в функции использованы разные типы данных параметров и не все из них могут быть взаимозаменяемыми.</p>"
   ]
  },
  {
   "cell_type": "markdown",
   "id": "52b78d9c-01a7-4638-bf29-05059e5ee017",
   "metadata": {},
   "source": [
    "# Возвраты. Оператор <code>return</code>\n",
    "\n",
    "<p style=\"font-size: 18px;\">Функции делятся на вида:</p>\n",
    "\n",
    "<ul style=\"font-size: 18px;\">\n",
    "    <li>Функция</li>\n",
    "    <li>Процедура</li>\n",
    "</ul>\n",
    "\n",
    "<img src=\"s4.png\">"
   ]
  },
  {
   "cell_type": "code",
   "execution_count": null,
   "id": "6c176628-2b6a-48b1-8d24-62a308c4d057",
   "metadata": {},
   "outputs": [],
   "source": []
  }
 ],
 "metadata": {
  "kernelspec": {
   "display_name": "Python 3 (ipykernel)",
   "language": "python",
   "name": "python3"
  },
  "language_info": {
   "codemirror_mode": {
    "name": "ipython",
    "version": 3
   },
   "file_extension": ".py",
   "mimetype": "text/x-python",
   "name": "python",
   "nbconvert_exporter": "python",
   "pygments_lexer": "ipython3",
   "version": "3.11.2"
  }
 },
 "nbformat": 4,
 "nbformat_minor": 5
}
